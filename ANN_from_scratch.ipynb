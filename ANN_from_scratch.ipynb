{
 "cells": [
  {
   "cell_type": "code",
   "execution_count": 1,
   "id": "bd796d7c",
   "metadata": {},
   "outputs": [],
   "source": [
    "import pandas as pd\n",
    "import numpy as np\n",
    "from matplotlib import pyplot as plt "
   ]
  },
  {
   "cell_type": "code",
   "execution_count": 2,
   "id": "05e92406",
   "metadata": {},
   "outputs": [],
   "source": [
    "data = pd.read_csv('train.csv')"
   ]
  },
  {
   "cell_type": "code",
   "execution_count": 3,
   "id": "0b957e66-e093-4e23-a9a0-2956afeede13",
   "metadata": {},
   "outputs": [],
   "source": [
    "data = np.array(data)\n",
    "m, n = data.shape\n",
    "\n",
    "np.random.shuffle(data)\n",
    "\n",
    "data_dev = data[1:1000].T\n",
    "x_dev = data_dev[1:n]\n",
    "y_dev = data_dev[0]\n",
    "\n",
    "data_train = data[1000:m].T\n",
    "x_train = data_train[1:n]\n",
    "x_train = x_train/255.\n",
    "y_train = data_train[0]"
   ]
  },
  {
   "cell_type": "code",
   "execution_count": 4,
   "id": "c04f8f5d-c27e-4f29-8466-9bc82645d5f1",
   "metadata": {},
   "outputs": [],
   "source": [
    "def init_params():\n",
    "    W1 = np.random.rand(10, 784) - 0.5\n",
    "    b1 = np.random.rand(10, 1) - 0.5\n",
    "    W2 = np.random.rand(10, 10) - 0.5\n",
    "    b2 = np.random.rand(10, 1) - 0.5\n",
    "    return W1, b1, W2, b2"
   ]
  },
  {
   "cell_type": "code",
   "execution_count": 5,
   "id": "dcc5ca64-156b-472a-a2e9-8b83d989ba3c",
   "metadata": {},
   "outputs": [],
   "source": [
    "def ReLU(Z):\n",
    "    return np.maximum(0, Z)"
   ]
  },
  {
   "cell_type": "code",
   "execution_count": 6,
   "id": "2b9d1a88-2e55-4282-b1bb-38710632b9f9",
   "metadata": {},
   "outputs": [],
   "source": [
    "def Softmax(Z):\n",
    "    A = np.exp(Z) / sum(np.exp(Z))\n",
    "    return A"
   ]
  },
  {
   "cell_type": "code",
   "execution_count": 7,
   "id": "65122641-e296-4055-80f1-e2ed1bde0d97",
   "metadata": {},
   "outputs": [],
   "source": [
    "def forward(W1, b1, W2, b2, X):\n",
    "    Z1 = W1.dot(X) + b1\n",
    "    A1 = ReLU(Z1)\n",
    "    Z2 = W2.dot(A1) + b2\n",
    "    A2 = Softmax(Z2)\n",
    "    return Z1, A1, Z2, A2"
   ]
  },
  {
   "cell_type": "code",
   "execution_count": 8,
   "id": "65dac8bf-8792-4926-9302-0201c204b8ac",
   "metadata": {},
   "outputs": [],
   "source": [
    "def onehot_encode_Y(Y):\n",
    "    Y_encode = np.zeros((Y.size, Y.max()+1))\n",
    "    Y_encode[np.arange(Y.size), Y] = 1\n",
    "    Y_encode = Y_encode.T\n",
    "    return Y_encode"
   ]
  },
  {
   "cell_type": "code",
   "execution_count": 9,
   "id": "32cc719e-908e-44b1-80a8-2c8249e48e97",
   "metadata": {},
   "outputs": [],
   "source": [
    "def derivReLU(Z):\n",
    "    return Z>0"
   ]
  },
  {
   "cell_type": "code",
   "execution_count": 10,
   "id": "337d84d9-22ef-4170-be15-9bd954142113",
   "metadata": {},
   "outputs": [],
   "source": [
    "def backprop(Z1, W1, A1, Z2, W2, A2, X, Y):\n",
    "    one_hot_Y = onehot_encode_Y(Y)\n",
    "    dZ2 = A2 - one_hot_Y\n",
    "    dW2 = 1 / m * dZ2.dot(A1.T)\n",
    "    db2 = 1 / m * np.sum(dZ2)\n",
    "    dZ1 = W2.T.dot(dZ2) * derivReLU(Z1)\n",
    "    dW1 = 1 / m * dZ1.dot(X.T)\n",
    "    db1 = 1 / m * np.sum(dZ1)\n",
    "    return dW1, db1, dW2, db2    "
   ]
  },
  {
   "cell_type": "code",
   "execution_count": 11,
   "id": "03c51f8a-a149-4c25-8e47-85ce23aaa7fd",
   "metadata": {},
   "outputs": [],
   "source": [
    "def update_param(W1, W2, b1, b2, dW1, db1, dW2, db2, alpha):\n",
    "    W1 = W1 - alpha * dW1\n",
    "    W2 = W2 - alpha * dW2\n",
    "    b1 = b1 - alpha * db1\n",
    "    b2 = b2 - alpha * db2\n",
    "    return W1, b1, W2, b2"
   ]
  },
  {
   "cell_type": "code",
   "execution_count": 12,
   "id": "00bdd8e5-a3ff-4238-a330-684d9e345230",
   "metadata": {},
   "outputs": [],
   "source": [
    "def get_predictions(A2):\n",
    "    return np.argmax(A2, 0)\n",
    "\n",
    "def get_accuracy(predictions, Y):\n",
    "    print(predictions, Y)\n",
    "    return np.sum(predictions==Y)/Y.size"
   ]
  },
  {
   "cell_type": "code",
   "execution_count": 14,
   "id": "374d6f0e-680c-446e-b10a-44f559c417a2",
   "metadata": {},
   "outputs": [],
   "source": [
    "def gradient_descent(X, Y, alpha, iterations):\n",
    "    W1, b1, W2, b2 = init_params()\n",
    "    for i in range(iterations):\n",
    "        Z1, A1, Z2, A2 = forward(W1, b1, W2, b2, X)\n",
    "        dW1, db1, dW2, db2 = backprop(Z1, W1, A1, Z2, W2, A2, X, Y)\n",
    "        W1, b1, W2, b2 = update_param(W1, W2, b1, b2, dW1, db1, dW2, db2, alpha)\n",
    "        if i % 10 == 0:\n",
    "            print(\"Iteration: \", i)\n",
    "            predictions = get_predictions(A2)\n",
    "            print(get_accuracy(predictions, Y))\n",
    "    return W1, b1, W2, b2"
   ]
  },
  {
   "cell_type": "code",
   "execution_count": 15,
   "id": "99f49ff6-c4fe-4891-a8f4-bfe9149c304f",
   "metadata": {},
   "outputs": [
    {
     "name": "stdout",
     "output_type": "stream",
     "text": [
      "Iteration:  0\n",
      "[1 5 5 ... 0 3 3] [8 0 3 ... 6 6 9]\n",
      "0.10051219512195123\n",
      "Iteration:  10\n",
      "[1 0 5 ... 0 3 3] [8 0 3 ... 6 6 9]\n",
      "0.26663414634146343\n",
      "Iteration:  20\n",
      "[1 0 0 ... 0 3 3] [8 0 3 ... 6 6 9]\n",
      "0.34468292682926827\n",
      "Iteration:  30\n",
      "[1 0 0 ... 0 9 9] [8 0 3 ... 6 6 9]\n",
      "0.4064390243902439\n",
      "Iteration:  40\n",
      "[1 0 0 ... 0 9 9] [8 0 3 ... 6 6 9]\n",
      "0.4622926829268293\n",
      "Iteration:  50\n",
      "[1 0 0 ... 0 4 9] [8 0 3 ... 6 6 9]\n",
      "0.5104634146341464\n",
      "Iteration:  60\n",
      "[1 0 0 ... 0 4 9] [8 0 3 ... 6 6 9]\n",
      "0.5510487804878049\n",
      "Iteration:  70\n",
      "[1 0 3 ... 0 4 9] [8 0 3 ... 6 6 9]\n",
      "0.5853170731707317\n",
      "Iteration:  80\n",
      "[1 0 3 ... 0 4 9] [8 0 3 ... 6 6 9]\n",
      "0.616\n",
      "Iteration:  90\n",
      "[1 0 3 ... 0 4 9] [8 0 3 ... 6 6 9]\n",
      "0.6420487804878049\n",
      "Iteration:  100\n",
      "[1 0 3 ... 0 6 9] [8 0 3 ... 6 6 9]\n",
      "0.6635365853658537\n",
      "Iteration:  110\n",
      "[1 0 3 ... 0 6 9] [8 0 3 ... 6 6 9]\n",
      "0.6835121951219513\n",
      "Iteration:  120\n",
      "[1 0 3 ... 0 6 9] [8 0 3 ... 6 6 9]\n",
      "0.6988780487804878\n",
      "Iteration:  130\n",
      "[1 0 3 ... 0 6 9] [8 0 3 ... 6 6 9]\n",
      "0.7137073170731707\n",
      "Iteration:  140\n",
      "[1 0 3 ... 0 6 9] [8 0 3 ... 6 6 9]\n",
      "0.7262439024390244\n",
      "Iteration:  150\n",
      "[1 0 3 ... 0 6 9] [8 0 3 ... 6 6 9]\n",
      "0.737609756097561\n",
      "Iteration:  160\n",
      "[1 0 3 ... 0 6 9] [8 0 3 ... 6 6 9]\n",
      "0.7469268292682927\n",
      "Iteration:  170\n",
      "[1 0 3 ... 0 6 9] [8 0 3 ... 6 6 9]\n",
      "0.755390243902439\n",
      "Iteration:  180\n",
      "[1 0 3 ... 0 6 9] [8 0 3 ... 6 6 9]\n",
      "0.7627560975609756\n",
      "Iteration:  190\n",
      "[1 0 3 ... 0 6 9] [8 0 3 ... 6 6 9]\n",
      "0.7690975609756098\n",
      "Iteration:  200\n",
      "[1 0 3 ... 0 6 9] [8 0 3 ... 6 6 9]\n",
      "0.7756829268292683\n",
      "Iteration:  210\n",
      "[1 0 3 ... 0 6 9] [8 0 3 ... 6 6 9]\n",
      "0.7814146341463415\n",
      "Iteration:  220\n",
      "[1 0 3 ... 0 6 9] [8 0 3 ... 6 6 9]\n",
      "0.7865609756097561\n",
      "Iteration:  230\n",
      "[1 0 3 ... 0 6 9] [8 0 3 ... 6 6 9]\n",
      "0.790829268292683\n",
      "Iteration:  240\n",
      "[1 0 3 ... 0 6 9] [8 0 3 ... 6 6 9]\n",
      "0.7955853658536586\n",
      "Iteration:  250\n",
      "[1 0 3 ... 0 6 9] [8 0 3 ... 6 6 9]\n",
      "0.8000731707317074\n",
      "Iteration:  260\n",
      "[1 0 3 ... 0 6 9] [8 0 3 ... 6 6 9]\n",
      "0.8040243902439025\n",
      "Iteration:  270\n",
      "[1 0 3 ... 0 6 9] [8 0 3 ... 6 6 9]\n",
      "0.8076341463414635\n",
      "Iteration:  280\n",
      "[1 0 3 ... 0 6 9] [8 0 3 ... 6 6 9]\n",
      "0.8108048780487805\n",
      "Iteration:  290\n",
      "[1 0 3 ... 0 6 9] [8 0 3 ... 6 6 9]\n",
      "0.8135365853658536\n",
      "Iteration:  300\n",
      "[1 0 3 ... 0 6 9] [8 0 3 ... 6 6 9]\n",
      "0.8164634146341463\n",
      "Iteration:  310\n",
      "[1 0 3 ... 0 6 9] [8 0 3 ... 6 6 9]\n",
      "0.8195365853658536\n",
      "Iteration:  320\n",
      "[1 0 3 ... 0 6 9] [8 0 3 ... 6 6 9]\n",
      "0.8222682926829268\n",
      "Iteration:  330\n",
      "[8 0 3 ... 0 6 9] [8 0 3 ... 6 6 9]\n",
      "0.8246829268292682\n",
      "Iteration:  340\n",
      "[8 0 3 ... 0 6 9] [8 0 3 ... 6 6 9]\n",
      "0.8270487804878048\n",
      "Iteration:  350\n",
      "[8 0 3 ... 0 6 9] [8 0 3 ... 6 6 9]\n",
      "0.8289756097560975\n",
      "Iteration:  360\n",
      "[8 0 3 ... 0 6 9] [8 0 3 ... 6 6 9]\n",
      "0.8314390243902439\n",
      "Iteration:  370\n",
      "[8 0 3 ... 0 6 9] [8 0 3 ... 6 6 9]\n",
      "0.8330975609756097\n",
      "Iteration:  380\n",
      "[8 0 3 ... 0 6 9] [8 0 3 ... 6 6 9]\n",
      "0.835\n",
      "Iteration:  390\n",
      "[8 0 3 ... 0 6 9] [8 0 3 ... 6 6 9]\n",
      "0.8363414634146341\n",
      "Iteration:  400\n",
      "[8 0 3 ... 0 6 9] [8 0 3 ... 6 6 9]\n",
      "0.8381951219512195\n",
      "Iteration:  410\n",
      "[8 0 3 ... 0 6 9] [8 0 3 ... 6 6 9]\n",
      "0.8396585365853658\n",
      "Iteration:  420\n",
      "[8 0 3 ... 0 6 9] [8 0 3 ... 6 6 9]\n",
      "0.8413658536585366\n",
      "Iteration:  430\n",
      "[8 0 3 ... 0 6 9] [8 0 3 ... 6 6 9]\n",
      "0.8425121951219512\n",
      "Iteration:  440\n",
      "[8 0 3 ... 0 6 9] [8 0 3 ... 6 6 9]\n",
      "0.8439512195121951\n",
      "Iteration:  450\n",
      "[8 0 3 ... 0 6 9] [8 0 3 ... 6 6 9]\n",
      "0.8453170731707317\n",
      "Iteration:  460\n",
      "[8 0 3 ... 0 6 9] [8 0 3 ... 6 6 9]\n",
      "0.8465121951219512\n",
      "Iteration:  470\n",
      "[8 0 3 ... 0 6 9] [8 0 3 ... 6 6 9]\n",
      "0.8479024390243902\n",
      "Iteration:  480\n",
      "[8 0 3 ... 0 6 9] [8 0 3 ... 6 6 9]\n",
      "0.8490243902439024\n",
      "Iteration:  490\n",
      "[8 0 3 ... 0 6 9] [8 0 3 ... 6 6 9]\n",
      "0.85\n"
     ]
    }
   ],
   "source": [
    "W1, b1, W2, b2 = gradient_descent(x_train, y_train, 0.1, 500)"
   ]
  },
  {
   "cell_type": "code",
   "execution_count": 29,
   "id": "913952d3-fe68-4033-9569-257af8dbcd78",
   "metadata": {},
   "outputs": [],
   "source": [
    "def make_predictions(X, W1, b1, W2, b2):\n",
    "    _, _, _, A2 = forward(W1, b1, W2, b2, X)\n",
    "    predictions = get_predictions(A2)\n",
    "    return predictions\n",
    "\n",
    "def test_prediction(index, W1, b1, W2, b2):\n",
    "    current_image = x_train[:, index, None]\n",
    "    prediction = make_predictions(x_train[:, index, None], W1, b1, W2, b2)\n",
    "    label = y_train[index]\n",
    "    print(\"Prediction: \", prediction)\n",
    "    print(\"Label: \", label)\n",
    "    \n",
    "    current_image = current_image.reshape((28, 28)) * 255\n",
    "    plt.gray()\n",
    "    plt.imshow(current_image, interpolation='nearest')\n",
    "    plt.show()"
   ]
  },
  {
   "cell_type": "code",
   "execution_count": 32,
   "id": "f85fa8f9-310e-419e-b8f4-9fb7cafae82c",
   "metadata": {},
   "outputs": [
    {
     "name": "stdout",
     "output_type": "stream",
     "text": [
      "Prediction:  [9]\n",
      "Label:  9\n"
     ]
    },
    {
     "data": {
      "image/png": "[encoded data removed]",
      "text/plain": [
       "<Figure size 640x480 with 1 Axes>"
      ]
     },
     "metadata": {},
     "output_type": "display_data"
    },
    {
     "name": "stdout",
     "output_type": "stream",
     "text": [
      "Prediction:  [9]\n",
      "Label:  9\n"
     ]
    },
    {
     "data": {
      "image/png": "[encoded data removed]",
      "text/plain": [
       "<Figure size 640x480 with 1 Axes>"
      ]
     },
     "metadata": {},
     "output_type": "display_data"
    },
    {
     "name": "stdout",
     "output_type": "stream",
     "text": [
      "Prediction:  [5]\n",
      "Label:  8\n"
     ]
    },
    {
     "data": {
      "image/png": "[encoded data removed]",
      "text/plain": [
       "<Figure size 640x480 with 1 Axes>"
      ]
     },
     "metadata": {},
     "output_type": "display_data"
    },
    {
     "name": "stdout",
     "output_type": "stream",
     "text": [
      "Prediction:  [1]\n",
      "Label:  1\n"
     ]
    },
    {
     "data": {
      "image/png": "[encoded data removed]",
      "text/plain": [
       "<Figure size 640x480 with 1 Axes>"
      ]
     },
     "metadata": {},
     "output_type": "display_data"
    }
   ],
   "source": [
    "test_prediction(0, W1, b1, W2, b2)\n",
    "test_prediction(1, W1, b1, W2, b2)\n",
    "test_prediction(2, W1, b1, W2, b2)\n",
    "test_prediction(3, W1, b1, W2, b2)"
   ]
  },
  {
   "cell_type": "code",
   "execution_count": null,
   "id": "3e094479-d943-453a-9d6d-7e663ca94854",
   "metadata": {},
   "outputs": [],
   "source": []
  }
 ],
 "metadata": {
  "kernelspec": {
   "display_name": "Python 3 (ipykernel)",
   "language": "python",
   "name": "python3"
  },
  "language_info": {
   "codemirror_mode": {
    "name": "ipython",
    "version": 3
   },
   "file_extension": ".py",
   "mimetype": "text/x-python",
   "name": "python",
   "nbconvert_exporter": "python",
   "pygments_lexer": "ipython3",
   "version": "3.13.5"
  }
 },
 "nbformat": 4,
 "nbformat_minor": 5
}
